{
 "cells": [
  {
   "cell_type": "code",
   "execution_count": 1,
   "id": "938330cd",
   "metadata": {},
   "outputs": [
    {
     "name": "stdout",
     "output_type": "stream",
     "text": [
      "enter year1998\n",
      "not a leap\n"
     ]
    }
   ],
   "source": [
    "year=int(input(\"enter year\"))\n",
    "if (year % 400 == 0) :\n",
    "    print(\"leap year\")\n",
    "else:\n",
    "     print(\"not a leap\")\n"
   ]
  },
  {
   "cell_type": "code",
   "execution_count": 2,
   "id": "713fb34d",
   "metadata": {},
   "outputs": [
    {
     "name": "stdout",
     "output_type": "stream",
     "text": [
      "enter year2000\n",
      "leap year\n"
     ]
    }
   ],
   "source": [
    "year=int(input(\"enter year\"))\n",
    "if (year % 400 == 0) :\n",
    "    print(\"leap year\")\n",
    "else:\n",
    "     print(\"not a leap\")\n"
   ]
  },
  {
   "cell_type": "code",
   "execution_count": 3,
   "id": "9f0e8cf7",
   "metadata": {},
   "outputs": [
    {
     "name": "stdout",
     "output_type": "stream",
     "text": [
      "enter year2009\n",
      "2009 is not a leap year\n"
     ]
    }
   ],
   "source": [
    "year=int(input(\"enter year\"))\n",
    "def leapYear(year):#function definition\n",
    "     if (year%400==0):\n",
    "        print(\"%d is a leap year\"%year);\n",
    "     else:\n",
    "        print(\"%d is not a leap year\"%year);\n",
    "leapYear(year)#Calling the function\n"
   ]
  },
  {
   "cell_type": "code",
   "execution_count": null,
   "id": "cbbf3b8f",
   "metadata": {},
   "outputs": [],
   "source": [
    "\n"
   ]
  }
 ],
 "metadata": {
  "kernelspec": {
   "display_name": "Python 3 (ipykernel)",
   "language": "python",
   "name": "python3"
  },
  "language_info": {
   "codemirror_mode": {
    "name": "ipython",
    "version": 3
   },
   "file_extension": ".py",
   "mimetype": "text/x-python",
   "name": "python",
   "nbconvert_exporter": "python",
   "pygments_lexer": "ipython3",
   "version": "3.9.7"
  }
 },
 "nbformat": 4,
 "nbformat_minor": 5
}
